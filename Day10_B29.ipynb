{
 "cells": [
  {
   "cell_type": "code",
   "execution_count": 1,
   "metadata": {},
   "outputs": [],
   "source": [
    "prompt = \"Enter the city you have visited\"\n",
    "prompt += \"\\n Enter quit when you are done\""
   ]
  },
  {
   "cell_type": "code",
   "execution_count": 2,
   "metadata": {},
   "outputs": [
    {
     "name": "stdout",
     "output_type": "stream",
     "text": [
      "Enter the city you have visited\n",
      " Enter quit when you are doneChennai\n",
      "Wow! Chennai is a nice place\n",
      "Enter the city you have visited\n",
      " Enter quit when you are doneNellore\n",
      "Wow! Nellore is a nice place\n",
      "Enter the city you have visited\n",
      " Enter quit when you are doneHyderabad\n",
      "Wow! Hyderabad is a nice place\n",
      "Enter the city you have visited\n",
      " Enter quit when you are donequit\n"
     ]
    }
   ],
   "source": [
    "while True:\n",
    "    city = input(prompt)\n",
    "    if city == 'quit':\n",
    "        break\n",
    "    else:\n",
    "        print(f\"Wow! {city} is a nice place\")"
   ]
  },
  {
   "cell_type": "code",
   "execution_count": 3,
   "metadata": {},
   "outputs": [
    {
     "name": "stdout",
     "output_type": "stream",
     "text": [
      "1\n",
      "3\n",
      "5\n",
      "7\n",
      "9\n"
     ]
    }
   ],
   "source": [
    "curr_no = 0\n",
    "while curr_no < 10:\n",
    "    curr_no += 1\n",
    "    if curr_no % 2 == 0:\n",
    "        continue\n",
    "    print(curr_no)"
   ]
  },
  {
   "cell_type": "code",
   "execution_count": null,
   "metadata": {},
   "outputs": [],
   "source": []
  }
 ],
 "metadata": {
  "kernelspec": {
   "display_name": "Python 3",
   "language": "python",
   "name": "python3"
  },
  "language_info": {
   "codemirror_mode": {
    "name": "ipython",
    "version": 3
   },
   "file_extension": ".py",
   "mimetype": "text/x-python",
   "name": "python",
   "nbconvert_exporter": "python",
   "pygments_lexer": "ipython3",
   "version": "3.7.4"
  }
 },
 "nbformat": 4,
 "nbformat_minor": 2
}
