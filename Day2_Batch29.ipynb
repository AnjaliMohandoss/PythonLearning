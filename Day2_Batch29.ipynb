{
 "cells": [
  {
   "cell_type": "code",
   "execution_count": 1,
   "metadata": {},
   "outputs": [
    {
     "ename": "SyntaxError",
     "evalue": "invalid syntax (<ipython-input-1-44cb17b4a031>, line 3)",
     "output_type": "error",
     "traceback": [
      "\u001b[1;36m  File \u001b[1;32m\"<ipython-input-1-44cb17b4a031>\"\u001b[1;36m, line \u001b[1;32m3\u001b[0m\n\u001b[1;33m    full name = \"ANjali Mohandoss\"\u001b[0m\n\u001b[1;37m            ^\u001b[0m\n\u001b[1;31mSyntaxError\u001b[0m\u001b[1;31m:\u001b[0m invalid syntax\n"
     ]
    }
   ],
   "source": [
    "#declaring variables\n",
    "#1. should be a complete name with no namespace\n",
    "full name = \"ANjali Mohandoss\"\n",
    "print(full name)"
   ]
  },
  {
   "cell_type": "code",
   "execution_count": 3,
   "metadata": {},
   "outputs": [
    {
     "name": "stdout",
     "output_type": "stream",
     "text": [
      "Anjali Mohandoss\n"
     ]
    }
   ],
   "source": [
    "#declaring variables\n",
    "#1. should be a complete name with no namespace\n",
    "full_name = \"Anjali Mohandoss\"\n",
    "print(full_name)"
   ]
  },
  {
   "cell_type": "code",
   "execution_count": 4,
   "metadata": {},
   "outputs": [
    {
     "ename": "SyntaxError",
     "evalue": "invalid syntax (<ipython-input-4-6f1f644473ee>, line 3)",
     "output_type": "error",
     "traceback": [
      "\u001b[1;36m  File \u001b[1;32m\"<ipython-input-4-6f1f644473ee>\"\u001b[1;36m, line \u001b[1;32m3\u001b[0m\n\u001b[1;33m    1full_name = \"Anjali Mohandoss\"\u001b[0m\n\u001b[1;37m             ^\u001b[0m\n\u001b[1;31mSyntaxError\u001b[0m\u001b[1;31m:\u001b[0m invalid syntax\n"
     ]
    }
   ],
   "source": [
    "#declaring variables\n",
    "#2. should not start with a number\n",
    "1full_name = \"Anjali Mohandoss\"\n",
    "print(1full_name)"
   ]
  },
  {
   "cell_type": "code",
   "execution_count": 6,
   "metadata": {},
   "outputs": [
    {
     "name": "stdout",
     "output_type": "stream",
     "text": [
      "Anjali Mohandoss\n"
     ]
    }
   ],
   "source": [
    "#declaring variables\n",
    "#2. should not start with a number\n",
    "full_name1 = \"Anjali Mohandoss\"\n",
    "print(full_name1)"
   ]
  },
  {
   "cell_type": "code",
   "execution_count": 7,
   "metadata": {},
   "outputs": [
    {
     "ename": "SyntaxError",
     "evalue": "invalid syntax (<ipython-input-7-33bb136e83e0>, line 3)",
     "output_type": "error",
     "traceback": [
      "\u001b[1;36m  File \u001b[1;32m\"<ipython-input-7-33bb136e83e0>\"\u001b[1;36m, line \u001b[1;32m3\u001b[0m\n\u001b[1;33m    fullname@ = \"Anjali Mohandoss\"\u001b[0m\n\u001b[1;37m              ^\u001b[0m\n\u001b[1;31mSyntaxError\u001b[0m\u001b[1;31m:\u001b[0m invalid syntax\n"
     ]
    }
   ],
   "source": [
    "#declaring variables\n",
    "#3. should not contain a special character\n",
    "fullname@ = \"Anjali Mohandoss\"\n",
    "print(fullname@)"
   ]
  },
  {
   "cell_type": "code",
   "execution_count": 9,
   "metadata": {},
   "outputs": [
    {
     "name": "stdout",
     "output_type": "stream",
     "text": [
      "11\n"
     ]
    }
   ],
   "source": [
    "#Datatypes\n",
    "#number\n",
    "x=5\n",
    "y=6\n",
    "print(x+y)"
   ]
  },
  {
   "cell_type": "code",
   "execution_count": 12,
   "metadata": {},
   "outputs": [
    {
     "name": "stdout",
     "output_type": "stream",
     "text": [
      "<class 'str'>\n",
      "<class 'int'>\n"
     ]
    }
   ],
   "source": [
    "#Built-in Functions\n",
    "#type()\n",
    "string = \"anjali mohandoss\"\n",
    "x = 56\n",
    "print(type(string))\n",
    "print(type(x))"
   ]
  },
  {
   "cell_type": "code",
   "execution_count": 15,
   "metadata": {},
   "outputs": [
    {
     "name": "stdout",
     "output_type": "stream",
     "text": [
      "Anjali Mohandoss\n"
     ]
    }
   ],
   "source": [
    "#Built-in Functions\n",
    "#title\n",
    "string = \"anjali mohandoss\"\n",
    "print(string.title())"
   ]
  },
  {
   "cell_type": "code",
   "execution_count": 16,
   "metadata": {},
   "outputs": [
    {
     "name": "stdout",
     "output_type": "stream",
     "text": [
      "ANJALI MOHANDOSS\n"
     ]
    }
   ],
   "source": [
    "#Built-in Functions\n",
    "#upper()\n",
    "string = \"anjali mohandoss\"\n",
    "print(string.upper())"
   ]
  },
  {
   "cell_type": "code",
   "execution_count": 17,
   "metadata": {},
   "outputs": [
    {
     "name": "stdout",
     "output_type": "stream",
     "text": [
      "anjali mohandoss\n"
     ]
    }
   ],
   "source": [
    "#Built-in Functions\n",
    "#lower()\n",
    "string = \"anjali mohandoss\"\n",
    "print(string.lower())"
   ]
  },
  {
   "cell_type": "code",
   "execution_count": null,
   "metadata": {},
   "outputs": [],
   "source": []
  }
 ],
 "metadata": {
  "kernelspec": {
   "display_name": "Python 3",
   "language": "python",
   "name": "python3"
  },
  "language_info": {
   "codemirror_mode": {
    "name": "ipython",
    "version": 3
   },
   "file_extension": ".py",
   "mimetype": "text/x-python",
   "name": "python",
   "nbconvert_exporter": "python",
   "pygments_lexer": "ipython3",
   "version": "3.7.4"
  }
 },
 "nbformat": 4,
 "nbformat_minor": 2
}
