{
 "cells": [
  {
   "cell_type": "code",
   "execution_count": 5,
   "metadata": {},
   "outputs": [
    {
     "name": "stdout",
     "output_type": "stream",
     "text": [
      "AnjaliMohandoss\n"
     ]
    }
   ],
   "source": [
    "f_name = \"Anjali\"\n",
    "l_name = \"Mohandoss\"\n",
    "full_name = f\"{f_name}{l_name}\"\n",
    "print(full_name)"
   ]
  },
  {
   "cell_type": "code",
   "execution_count": 7,
   "metadata": {},
   "outputs": [
    {
     "name": "stdout",
     "output_type": "stream",
     "text": [
      "Hello Anjali Mohandoss\n"
     ]
    }
   ],
   "source": [
    "f_name = \"Anjali\"\n",
    "l_name = \"Mohandoss\"\n",
    "full_name = f\"Hello {f_name} {l_name}\"\n",
    "print(full_name)"
   ]
  },
  {
   "cell_type": "code",
   "execution_count": 10,
   "metadata": {},
   "outputs": [
    {
     "name": "stdout",
     "output_type": "stream",
     "text": [
      "Hello Anjali Mohandoss, How Are You\n"
     ]
    }
   ],
   "source": [
    "f_name = \"anjali\"\n",
    "l_name = \"mohandoss\"\n",
    "full_name = f\"hello {f_name} {l_name}, how are you\"\n",
    "print(full_name.title())"
   ]
  },
  {
   "cell_type": "code",
   "execution_count": 12,
   "metadata": {},
   "outputs": [
    {
     "name": "stdout",
     "output_type": "stream",
     "text": [
      "Hello Hello Anjali Mohandoss, How Are You\n"
     ]
    }
   ],
   "source": [
    "f_name = \"anjali\"\n",
    "l_name = \"mohandoss\"\n",
    "full_name = f\"hello {f_name} {l_name}, how are you\"\n",
    "print(\"Hello \"+full_name.title())"
   ]
  },
  {
   "cell_type": "code",
   "execution_count": 13,
   "metadata": {},
   "outputs": [
    {
     "name": "stdout",
     "output_type": "stream",
     "text": [
      "Hello Anjali Mohandoss , how are you\n"
     ]
    }
   ],
   "source": [
    "f_name = \"anjali\"\n",
    "l_name = \"mohandoss\"\n",
    "full_name = f\"{f_name} {l_name}\"\n",
    "print(\"Hello \"+full_name.title()+\" , how are you\")"
   ]
  },
  {
   "cell_type": "code",
   "execution_count": 14,
   "metadata": {},
   "outputs": [
    {
     "name": "stdout",
     "output_type": "stream",
     "text": [
      "Hello Anjali Mohandoss\n",
      "How are you\n"
     ]
    }
   ],
   "source": [
    "f_name = \"anjali\"\n",
    "l_name = \"mohandoss\"\n",
    "full_name = f\"{f_name} {l_name}\"\n",
    "print(\"Hello \"+full_name.title()+\"\\nHow are you\")"
   ]
  },
  {
   "cell_type": "code",
   "execution_count": 15,
   "metadata": {},
   "outputs": [
    {
     "name": "stdout",
     "output_type": "stream",
     "text": [
      "Hello Anjali Mohandoss\tHow are you\n"
     ]
    }
   ],
   "source": [
    "f_name = \"anjali\"\n",
    "l_name = \"mohandoss\"\n",
    "full_name = f\"{f_name} {l_name}\"\n",
    "print(\"Hello \"+full_name.title()+\"\\tHow are you\")"
   ]
  },
  {
   "cell_type": "code",
   "execution_count": 16,
   "metadata": {},
   "outputs": [
    {
     "name": "stdout",
     "output_type": "stream",
     "text": [
      "Hello Anjali Mohandoss\n",
      "\tHow are you\n"
     ]
    }
   ],
   "source": [
    "f_name = \"anjali\"\n",
    "l_name = \"mohandoss\"\n",
    "full_name = f\"{f_name} {l_name}\"\n",
    "print(\"Hello \"+full_name.title()+\"\\n\\tHow are you\")"
   ]
  },
  {
   "cell_type": "code",
   "execution_count": 17,
   "metadata": {},
   "outputs": [
    {
     "name": "stdout",
     "output_type": "stream",
     "text": [
      " Anjali Mohandoss \n"
     ]
    }
   ],
   "source": [
    "f_name = \" Anjali\"\n",
    "l_name = \"Mohandoss \"\n",
    "full_name = f\"{f_name} {l_name}\"\n",
    "print(full_name)"
   ]
  },
  {
   "cell_type": "code",
   "execution_count": 18,
   "metadata": {},
   "outputs": [
    {
     "name": "stdout",
     "output_type": "stream",
     "text": [
      "Anjali Mohandoss \n"
     ]
    }
   ],
   "source": [
    "f_name = \" Anjali\"\n",
    "l_name = \"Mohandoss \"\n",
    "full_name = f\"{f_name} {l_name}\"\n",
    "print(full_name.lstrip())"
   ]
  },
  {
   "cell_type": "code",
   "execution_count": 19,
   "metadata": {},
   "outputs": [
    {
     "name": "stdout",
     "output_type": "stream",
     "text": [
      " Anjali Mohandoss\n"
     ]
    }
   ],
   "source": [
    "f_name = \" Anjali\"\n",
    "l_name = \"Mohandoss \"\n",
    "full_name = f\"{f_name} {l_name}\"\n",
    "print(full_name.rstrip())"
   ]
  },
  {
   "cell_type": "code",
   "execution_count": 20,
   "metadata": {},
   "outputs": [
    {
     "name": "stdout",
     "output_type": "stream",
     "text": [
      "Anjali Mohandoss\n"
     ]
    }
   ],
   "source": [
    "f_name = \" Anjali\"\n",
    "l_name = \"Mohandoss \"\n",
    "full_name = f\"{f_name} {l_name}\"\n",
    "print(full_name.strip())"
   ]
  },
  {
   "cell_type": "code",
   "execution_count": null,
   "metadata": {},
   "outputs": [],
   "source": []
  }
 ],
 "metadata": {
  "kernelspec": {
   "display_name": "Python 3",
   "language": "python",
   "name": "python3"
  },
  "language_info": {
   "codemirror_mode": {
    "name": "ipython",
    "version": 3
   },
   "file_extension": ".py",
   "mimetype": "text/x-python",
   "name": "python",
   "nbconvert_exporter": "python",
   "pygments_lexer": "ipython3",
   "version": "3.7.4"
  }
 },
 "nbformat": 4,
 "nbformat_minor": 2
}
