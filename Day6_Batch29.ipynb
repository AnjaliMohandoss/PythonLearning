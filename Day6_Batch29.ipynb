{
 "cells": [
  {
   "cell_type": "code",
   "execution_count": 1,
   "metadata": {},
   "outputs": [
    {
     "name": "stdout",
     "output_type": "stream",
     "text": [
      "['red', 'blue', 'green', 'yellow', 'black', 'white', 'grey']\n"
     ]
    }
   ],
   "source": [
    "colors = [\"red\",\"blue\",\"green\",\"yellow\",\"black\",\"white\",\"grey\"]\n",
    "print(colors)"
   ]
  },
  {
   "cell_type": "code",
   "execution_count": 2,
   "metadata": {},
   "outputs": [
    {
     "name": "stdout",
     "output_type": "stream",
     "text": [
      "['green', 'yellow', 'black', 'white']\n"
     ]
    }
   ],
   "source": [
    "#Slicing without step count\n",
    "print(colors[2:6])"
   ]
  },
  {
   "cell_type": "code",
   "execution_count": 3,
   "metadata": {},
   "outputs": [
    {
     "name": "stdout",
     "output_type": "stream",
     "text": [
      "['red', 'green', 'black', 'grey']\n"
     ]
    }
   ],
   "source": [
    "#Slicing with step count\n",
    "print(colors[0:7:2])"
   ]
  },
  {
   "cell_type": "code",
   "execution_count": 4,
   "metadata": {},
   "outputs": [
    {
     "name": "stdout",
     "output_type": "stream",
     "text": [
      "['red', 'blue', 'green', 'yellow', 'black', 'white', 'grey']\n"
     ]
    }
   ],
   "source": [
    "#Slicing with step count\n",
    "print(colors[0:7:1])"
   ]
  },
  {
   "cell_type": "code",
   "execution_count": 5,
   "metadata": {},
   "outputs": [
    {
     "name": "stdout",
     "output_type": "stream",
     "text": [
      "['red', 'yellow', 'grey']\n"
     ]
    }
   ],
   "source": [
    "#Slicing with step count\n",
    "print(colors[0:7:3])"
   ]
  },
  {
   "cell_type": "code",
   "execution_count": 12,
   "metadata": {},
   "outputs": [
    {
     "name": "stdout",
     "output_type": "stream",
     "text": [
      "I have the color red\n",
      "I have the color blue\n",
      "I have the color green\n",
      "I have the color yellow\n",
      "I have the color black\n",
      "I have the color white\n",
      "I have the color grey\n"
     ]
    }
   ],
   "source": [
    "#for loop in list : means performing the same tasks for all elements in a list\n",
    "for color in colors:\n",
    "    print(f\"I have the color {color}\")"
   ]
  },
  {
   "cell_type": "code",
   "execution_count": 18,
   "metadata": {},
   "outputs": [
    {
     "name": "stdout",
     "output_type": "stream",
     "text": [
      "I have the color Red\n",
      "I have the color Blue\n",
      "I have the color Green\n",
      "I have the color Yellow\n",
      "I have the color Black\n",
      "I have the color White\n",
      "I have the color Grey\n"
     ]
    }
   ],
   "source": [
    "#for loop in list : means performing the same tasks for all elements in a list\n",
    "for color in colors:\n",
    "    print(\"I have the color \"+color.title())"
   ]
  },
  {
   "cell_type": "code",
   "execution_count": 19,
   "metadata": {},
   "outputs": [
    {
     "name": "stdout",
     "output_type": "stream",
     "text": [
      "I have the color Red\n",
      "I have the color Blue\n",
      "I have the color Green\n",
      "I have the color Yellow\n",
      "I have the color Black\n",
      "I have the color White\n",
      "I have the color Grey\n"
     ]
    }
   ],
   "source": [
    "#for loop in list : means performing the same tasks for all elements in a list\n",
    "for color in colors:\n",
    "    print(f\"I have the color {color.title()}\")"
   ]
  },
  {
   "cell_type": "code",
   "execution_count": 20,
   "metadata": {},
   "outputs": [
    {
     "name": "stdout",
     "output_type": "stream",
     "text": [
      "I have the color Red\n",
      "Hope you like this color\n",
      "I have the color Blue\n",
      "Hope you like this color\n",
      "I have the color Green\n",
      "Hope you like this color\n",
      "I have the color Yellow\n",
      "Hope you like this color\n",
      "I have the color Black\n",
      "Hope you like this color\n",
      "I have the color White\n",
      "Hope you like this color\n",
      "I have the color Grey\n",
      "Hope you like this color\n"
     ]
    }
   ],
   "source": [
    "#for loop in list : means performing the same tasks for all elements in a list\n",
    "for color in colors:\n",
    "    print(f\"I have the color {color.title()}\")\n",
    "    print(f\"Hope you like this color\")"
   ]
  },
  {
   "cell_type": "code",
   "execution_count": 21,
   "metadata": {},
   "outputs": [
    {
     "name": "stdout",
     "output_type": "stream",
     "text": [
      "I have the color Red\n",
      "Hope you like this color\n",
      "\n",
      "I have the color Blue\n",
      "Hope you like this color\n",
      "\n",
      "I have the color Green\n",
      "Hope you like this color\n",
      "\n",
      "I have the color Yellow\n",
      "Hope you like this color\n",
      "\n",
      "I have the color Black\n",
      "Hope you like this color\n",
      "\n",
      "I have the color White\n",
      "Hope you like this color\n",
      "\n",
      "I have the color Grey\n",
      "Hope you like this color\n",
      "\n"
     ]
    }
   ],
   "source": [
    "#for loop in list : means performing the same tasks for all elements in a list\n",
    "for color in colors:\n",
    "    print(f\"I have the color {color.title()}\")\n",
    "    print(f\"Hope you like this color\\n\")"
   ]
  },
  {
   "cell_type": "code",
   "execution_count": null,
   "metadata": {},
   "outputs": [],
   "source": []
  }
 ],
 "metadata": {
  "kernelspec": {
   "display_name": "Python 3",
   "language": "python",
   "name": "python3"
  },
  "language_info": {
   "codemirror_mode": {
    "name": "ipython",
    "version": 3
   },
   "file_extension": ".py",
   "mimetype": "text/x-python",
   "name": "python",
   "nbconvert_exporter": "python",
   "pygments_lexer": "ipython3",
   "version": "3.7.4"
  }
 },
 "nbformat": 4,
 "nbformat_minor": 2
}
