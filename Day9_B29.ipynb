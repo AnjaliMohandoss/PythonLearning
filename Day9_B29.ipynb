{
 "cells": [
  {
   "cell_type": "code",
   "execution_count": 1,
   "metadata": {},
   "outputs": [],
   "source": [
    "#Introduction to conditional statements"
   ]
  },
  {
   "cell_type": "code",
   "execution_count": 2,
   "metadata": {},
   "outputs": [],
   "source": [
    "cars = [\"audi\",\"bmw\",\"toyota\",\"ford\",\"maruthi\"]"
   ]
  },
  {
   "cell_type": "code",
   "execution_count": 3,
   "metadata": {},
   "outputs": [
    {
     "name": "stdout",
     "output_type": "stream",
     "text": [
      "Audi\n",
      "BMW\n",
      "Toyota\n",
      "Ford\n",
      "Maruthi\n"
     ]
    }
   ],
   "source": [
    "for x in cars:\n",
    "    if x == 'bmw':\n",
    "        print(x.upper())\n",
    "    else:\n",
    "        print(x.title())"
   ]
  },
  {
   "cell_type": "code",
   "execution_count": 4,
   "metadata": {},
   "outputs": [],
   "source": [
    "#Introduction to user input"
   ]
  },
  {
   "cell_type": "code",
   "execution_count": 5,
   "metadata": {},
   "outputs": [
    {
     "name": "stdout",
     "output_type": "stream",
     "text": [
      "Enter your message and I will repeat it for you:Hello World\n",
      "Hello World\n"
     ]
    }
   ],
   "source": [
    "message = input(\"Enter your message and I will repeat it for you:\")\n",
    "print(message)"
   ]
  },
  {
   "cell_type": "code",
   "execution_count": 6,
   "metadata": {},
   "outputs": [],
   "source": [
    "#Introduction to type casting"
   ]
  },
  {
   "cell_type": "code",
   "execution_count": 10,
   "metadata": {},
   "outputs": [
    {
     "name": "stdout",
     "output_type": "stream",
     "text": [
      "Enter your age16\n"
     ]
    },
    {
     "data": {
      "text/plain": [
       "int"
      ]
     },
     "execution_count": 10,
     "metadata": {},
     "output_type": "execute_result"
    }
   ],
   "source": [
    "age = input(\"Enter your age\")\n",
    "age = int(age)\n",
    "type(age)"
   ]
  },
  {
   "cell_type": "code",
   "execution_count": 11,
   "metadata": {},
   "outputs": [],
   "source": [
    "prompt = \"Tell me how old are you:\"\n",
    "prompt += \"\\n I will tell if you are eligble for voting:\""
   ]
  },
  {
   "cell_type": "code",
   "execution_count": 12,
   "metadata": {},
   "outputs": [
    {
     "name": "stdout",
     "output_type": "stream",
     "text": [
      "Tell me how old are you:\n",
      " I will tell if you are eligble for voting:16\n",
      "You are NOT Eligible\n"
     ]
    }
   ],
   "source": [
    "age = input(prompt)\n",
    "age = int(age)\n",
    "if age >= 18:\n",
    "    print(\"You are Eligible\")\n",
    "else:\n",
    "    print(\"You are NOT Eligible\")"
   ]
  },
  {
   "cell_type": "code",
   "execution_count": 13,
   "metadata": {},
   "outputs": [
    {
     "name": "stdout",
     "output_type": "stream",
     "text": [
      "Tell me how old are you:\n",
      " I will tell if you are eligble for voting:19\n",
      "You are Eligible\n"
     ]
    }
   ],
   "source": [
    "age = input(prompt)\n",
    "age = int(age)\n",
    "if age >= 18:\n",
    "    print(\"You are Eligible\")\n",
    "else:\n",
    "    print(\"You are NOT Eligible\")"
   ]
  },
  {
   "cell_type": "code",
   "execution_count": 14,
   "metadata": {},
   "outputs": [
    {
     "name": "stdout",
     "output_type": "stream",
     "text": [
      "Tell me how old are you:\n",
      " I will tell if you are eligble for voting:18\n",
      "You are Eligible\n"
     ]
    }
   ],
   "source": [
    "age = input(prompt)\n",
    "age = int(age)\n",
    "if age >= 18:\n",
    "    print(\"You are Eligible\")\n",
    "else:\n",
    "    print(\"You are NOT Eligible\")"
   ]
  },
  {
   "cell_type": "code",
   "execution_count": 15,
   "metadata": {},
   "outputs": [],
   "source": [
    "#Introduction to While loop"
   ]
  },
  {
   "cell_type": "code",
   "execution_count": 16,
   "metadata": {},
   "outputs": [
    {
     "name": "stdout",
     "output_type": "stream",
     "text": [
      "1\n",
      "2\n",
      "3\n",
      "4\n"
     ]
    }
   ],
   "source": [
    "curr_no = 1\n",
    "while curr_no < 5:\n",
    "    print(curr_no)\n",
    "    curr_no += 1"
   ]
  }
 ],
 "metadata": {
  "kernelspec": {
   "display_name": "Python 3",
   "language": "python",
   "name": "python3"
  },
  "language_info": {
   "codemirror_mode": {
    "name": "ipython",
    "version": 3
   },
   "file_extension": ".py",
   "mimetype": "text/x-python",
   "name": "python",
   "nbconvert_exporter": "python",
   "pygments_lexer": "ipython3",
   "version": "3.7.4"
  }
 },
 "nbformat": 4,
 "nbformat_minor": 2
}
